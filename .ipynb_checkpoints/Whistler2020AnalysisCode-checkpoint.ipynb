{
  "nbformat": 4,
  "nbformat_minor": 0,
  "metadata": {
    "kernelspec": {
      "name": "python3",
      "display_name": "Python 3"
    },
    "language_info": {
      "codemirror_mode": {
        "name": "ipython",
        "version": 3
      },
      "file_extension": ".py",
      "mimetype": "text/x-python",
      "name": "python",
      "nbconvert_exporter": "python",
      "pygments_lexer": "ipython3",
      "version": "3.6.8"
    },
    "colab": {
      "name": "Whistler2020AnalysisCode.ipynb",
      "provenance": []
    },
    "accelerator": "GPU"
  },
  "cells": [
    {
      "cell_type": "code",
      "metadata": {
        "id": "O4J8P2cpGBjg",
        "colab_type": "code",
        "colab": {
          "base_uri": "https://localhost:8080/",
          "height": 204
        },
        "outputId": "2dd57dbe-f655-4c3a-bd87-c483829f428f"
      },
      "source": [
        "!wget -nc https://raw.githubusercontent.com/saigerutherford/anatomically_defined_CNNs/master/requirements.txt"
      ],
      "execution_count": 1,
      "outputs": [
        {
          "output_type": "stream",
          "text": [
            "--2020-02-27 23:21:55--  https://raw.githubusercontent.com/saigerutherford/anatomically_defined_CNNs/master/requirements.txt\n",
            "Resolving raw.githubusercontent.com (raw.githubusercontent.com)... 151.101.0.133, 151.101.64.133, 151.101.128.133, ...\n",
            "Connecting to raw.githubusercontent.com (raw.githubusercontent.com)|151.101.0.133|:443... connected.\n",
            "HTTP request sent, awaiting response... 200 OK\n",
            "Length: 1317 (1.3K) [text/plain]\n",
            "Saving to: ‘requirements.txt’\n",
            "\n",
            "\rrequirements.txt      0%[                    ]       0  --.-KB/s               \rrequirements.txt    100%[===================>]   1.29K  --.-KB/s    in 0s      \n",
            "\n",
            "2020-02-27 23:21:56 (99.4 MB/s) - ‘requirements.txt’ saved [1317/1317]\n",
            "\n"
          ],
          "name": "stdout"
        }
      ]
    },
    {
      "cell_type": "code",
      "metadata": {
        "id": "J_ILGKPVGU8a",
        "colab_type": "code",
        "colab": {}
      },
      "source": [
        "!pip install -r requirements.txt"
      ],
      "execution_count": 0,
      "outputs": []
    },
    {
      "cell_type": "code",
      "metadata": {
        "id": "mDwDi4mYJYck",
        "colab_type": "code",
        "colab": {
          "base_uri": "https://localhost:8080/",
          "height": 238
        },
        "outputId": "0c3cf946-3e4c-465a-cb89-9fd754376d91"
      },
      "source": [
        "!pip install nilearn"
      ],
      "execution_count": 2,
      "outputs": [
        {
          "output_type": "stream",
          "text": [
            "Collecting nilearn\n",
            "\u001b[?25l  Downloading https://files.pythonhosted.org/packages/b9/c2/f5f1bdd37a3da28b3b34305e4ba27cce468db6073998d62a38abd0e281da/nilearn-0.6.2-py3-none-any.whl (2.5MB)\n",
            "\u001b[K     |████████████████████████████████| 2.5MB 27.5MB/s \n",
            "\u001b[?25hRequirement already satisfied: nibabel>=2.0.2 in /usr/local/lib/python3.6/dist-packages (from nilearn) (2.3.3)\n",
            "Requirement already satisfied: sklearn in /usr/local/lib/python3.6/dist-packages (from nilearn) (0.0)\n",
            "Requirement already satisfied: scikit-learn>=0.19 in /usr/local/lib/python3.6/dist-packages (from nilearn) (0.22.1)\n",
            "Requirement already satisfied: scipy>=0.19 in /usr/local/lib/python3.6/dist-packages (from nilearn) (1.4.1)\n",
            "Requirement already satisfied: joblib>=0.11 in /usr/local/lib/python3.6/dist-packages (from nilearn) (0.14.1)\n",
            "Requirement already satisfied: numpy>=1.11 in /usr/local/lib/python3.6/dist-packages (from nilearn) (1.17.5)\n",
            "Requirement already satisfied: bz2file in /usr/local/lib/python3.6/dist-packages (from nibabel>=2.0.2->nilearn) (0.98)\n",
            "Requirement already satisfied: six>=1.3 in /usr/local/lib/python3.6/dist-packages (from nibabel>=2.0.2->nilearn) (1.12.0)\n",
            "Installing collected packages: nilearn\n",
            "Successfully installed nilearn-0.6.2\n"
          ],
          "name": "stdout"
        }
      ]
    },
    {
      "cell_type": "code",
      "metadata": {
        "id": "aZBWjO36Fxen",
        "colab_type": "code",
        "colab": {
          "base_uri": "https://localhost:8080/",
          "height": 80
        },
        "outputId": "65c58eb5-2c39-401e-d378-37b0c62dba53"
      },
      "source": [
        "# general python packages\n",
        "from __future__ import print_function\n",
        "import os \n",
        "import glob\n",
        "import math\n",
        "import numpy as np\n",
        "import pandas as pd\n",
        "import random as ran\n",
        "import matplotlib.pyplot as plt\n",
        "\n",
        "# Deep Learning packages\n",
        "import tensorflow as tf\n",
        "from keras.preprocessing.image import ImageDataGenerator\n",
        "from keras.models import Sequential\n",
        "from keras.layers import Dense, Dropout, Activation, Flatten, Conv3D, MaxPooling3D, AveragePooling3D, Input, ZeroPadding3D\n",
        "from keras.layers.normalization import BatchNormalization\n",
        "from keras import initializers\n",
        "from keras.callbacks import ModelCheckpoint, TensorBoard, CSVLogger, EarlyStopping, ReduceLROnPlateau\n",
        "from keras.optimizers import Adam, Adadelta, RMSprop, Adamax, Nadam, SGD # using Adam in this model, but just showing the other options here for future reference\n",
        "from keras import backend as K\n",
        "from sklearn.model_selection import train_test_split\n",
        "from sklearn.utils import shuffle\n",
        "from scipy import stats, linalg\n",
        "from sklearn import preprocessing, decomposition, linear_model, metrics\n",
        "\n",
        "# neuroimaging-specific python packages\n",
        "import nilearn\n",
        "from nilearn import plotting\n",
        "import nibabel as nib"
      ],
      "execution_count": 3,
      "outputs": [
        {
          "output_type": "display_data",
          "data": {
            "text/html": [
              "<p style=\"color: red;\">\n",
              "The default version of TensorFlow in Colab will soon switch to TensorFlow 2.x.<br>\n",
              "We recommend you <a href=\"https://www.tensorflow.org/guide/migrate\" target=\"_blank\">upgrade</a> now \n",
              "or ensure your notebook will continue to use TensorFlow 1.x via the <code>%tensorflow_version 1.x</code> magic:\n",
              "<a href=\"https://colab.research.google.com/notebooks/tensorflow_version.ipynb\" target=\"_blank\">more info</a>.</p>\n"
            ],
            "text/plain": [
              "<IPython.core.display.HTML object>"
            ]
          },
          "metadata": {
            "tags": []
          }
        },
        {
          "output_type": "stream",
          "text": [
            "Using TensorFlow backend.\n"
          ],
          "name": "stderr"
        }
      ]
    },
    {
      "cell_type": "code",
      "metadata": {
        "id": "SZnDC2RDITOv",
        "colab_type": "code",
        "colab": {}
      },
      "source": [
        "%matplotlib inline"
      ],
      "execution_count": 0,
      "outputs": []
    },
    {
      "cell_type": "code",
      "metadata": {
        "id": "CYBN9xpiGonl",
        "colab_type": "code",
        "colab": {
          "base_uri": "https://localhost:8080/",
          "height": 122
        },
        "outputId": "225a9090-f8ec-4223-977c-9a1e85c3e556"
      },
      "source": [
        "from google.colab import drive\n",
        "drive.mount('/content/gdrive')"
      ],
      "execution_count": 8,
      "outputs": [
        {
          "output_type": "stream",
          "text": [
            "Go to this URL in a browser: https://accounts.google.com/o/oauth2/auth?client_id=947318989803-6bn6qk8qdgf4n4g3pfee6491hc0brc4i.apps.googleusercontent.com&redirect_uri=urn%3aietf%3awg%3aoauth%3a2.0%3aoob&response_type=code&scope=email%20https%3a%2f%2fwww.googleapis.com%2fauth%2fdocs.test%20https%3a%2f%2fwww.googleapis.com%2fauth%2fdrive%20https%3a%2f%2fwww.googleapis.com%2fauth%2fdrive.photos.readonly%20https%3a%2f%2fwww.googleapis.com%2fauth%2fpeopleapi.readonly\n",
            "\n",
            "Enter your authorization code:\n",
            "··········\n",
            "Mounted at /content/gdrive\n"
          ],
          "name": "stdout"
        }
      ]
    },
    {
      "cell_type": "code",
      "metadata": {
        "id": "hnxw5ACWHtPH",
        "colab_type": "code",
        "colab": {}
      },
      "source": [
        "root = 'gdrive/My Drive/Whistler2020/'"
      ],
      "execution_count": 0,
      "outputs": []
    },
    {
      "cell_type": "code",
      "metadata": {
        "id": "e2KY20XlFxet",
        "colab_type": "code",
        "colab": {}
      },
      "source": [
        "pheno = pd.read_csv(root + 'HCP_phenofile.csv')"
      ],
      "execution_count": 0,
      "outputs": []
    },
    {
      "cell_type": "code",
      "metadata": {
        "id": "42B6M0PiFxew",
        "colab_type": "code",
        "colab": {
          "base_uri": "https://localhost:8080/",
          "height": 68
        },
        "outputId": "48f77de0-8c4d-42bd-ba51-47a4baa058ed"
      },
      "source": [
        "pheno.columns"
      ],
      "execution_count": 10,
      "outputs": [
        {
          "output_type": "execute_result",
          "data": {
            "text/plain": [
              "Index(['Subject', 'Age', 'Gender', 'PMAT', 'ASR_Attn', 'ASR_Extn', 'ASR_Intn',\n",
              "       'NEO_A', 'NEO_O', 'NEO_C', 'NEO_N', 'NEO_E', 'g'],\n",
              "      dtype='object')"
            ]
          },
          "metadata": {
            "tags": []
          },
          "execution_count": 10
        }
      ]
    },
    {
      "cell_type": "code",
      "metadata": {
        "id": "nItbBIVkUzjR",
        "colab_type": "code",
        "colab": {
          "base_uri": "https://localhost:8080/",
          "height": 392
        },
        "outputId": "03eb6e86-5d4c-485d-ffa1-c01147419b7a"
      },
      "source": [
        "plt.figure(figsize=(6,6))\n",
        "plt.hist(pheno['Age'],bins=15)\n",
        "plt.show"
      ],
      "execution_count": 41,
      "outputs": [
        {
          "output_type": "execute_result",
          "data": {
            "text/plain": [
              "<function matplotlib.pyplot.show>"
            ]
          },
          "metadata": {
            "tags": []
          },
          "execution_count": 41
        },
        {
          "output_type": "display_data",
          "data": {
            "image/png": "[encoded data removed]",
            "text/plain": [
              "<Figure size 432x432 with 1 Axes>"
            ]
          },
          "metadata": {
            "tags": []
          }
        }
      ]
    },
    {
      "cell_type": "code",
      "metadata": {
        "id": "0LmaTrkKU2hW",
        "colab_type": "code",
        "colab": {
          "base_uri": "https://localhost:8080/",
          "height": 391
        },
        "outputId": "a1882b63-84aa-4f2e-d784-bd22a5b58df5"
      },
      "source": [
        "plt.figure(figsize=(6,6))\n",
        "plt.hist(pheno['g'],bins=15)\n",
        "plt.show"
      ],
      "execution_count": 42,
      "outputs": [
        {
          "output_type": "execute_result",
          "data": {
            "text/plain": [
              "<function matplotlib.pyplot.show>"
            ]
          },
          "metadata": {
            "tags": []
          },
          "execution_count": 42
        },
        {
          "output_type": "display_data",
          "data": {
            "image/png": "[encoded data removed]",
            "text/plain": [
              "<Figure size 432x432 with 1 Axes>"
            ]
          },
          "metadata": {
            "tags": []
          }
        }
      ]
    },
    {
      "cell_type": "code",
      "metadata": {
        "id": "1UDpZ47cFxez",
        "colab_type": "code",
        "colab": {}
      },
      "source": [
        "def ConvertNIItoNPY(inFile, outFile, SubjectDataFrame):\n",
        "    for _, row in SubjectDataFrame.iterrows():\n",
        "        subject = row['Subject']\n",
        "        #print('Saving Subject {}'.format(subject))\n",
        "        fileName = '{}{}_T1w_restore_brain.nii'.format(inFile, str(subject))\n",
        "        NIIimage = nib.load(fileName)\n",
        "        cropNII = nilearn.image.crop_img(NIIimage, copy=True)\n",
        "        imageArray = cropNII.get_data()\n",
        "        outFileName = outFile + str(subject)\n",
        "        np.save(outFileName, imageArray)"
      ],
      "execution_count": 0,
      "outputs": []
    },
    {
      "cell_type": "code",
      "metadata": {
        "id": "HdqJGDSdFxe1",
        "colab_type": "code",
        "colab": {}
      },
      "source": [
        "SubjectDataFrame = pheno\n",
        "ConvertNIItoNPY(inFile='/net/parasite/HCP/Subjects/saige_temp_HCP/resampled/3D/', outFile='/net/parasite/HCP/Subjects/saige_temp_HCP/resampled/crop3D_T1numpyArrays/', SubjectDataFrame=SubjectDataFrame)"
      ],
      "execution_count": 0,
      "outputs": []
    },
    {
      "cell_type": "code",
      "metadata": {
        "id": "fHKasjXnFxe4",
        "colab_type": "code",
        "colab": {}
      },
      "source": [
        "input_dir = 'crop3D_T1numpyArrays/'\n",
        "input_names = [name for name in os.listdir(input_dir)]\n",
        "all_subs_T1 = []\n",
        "for idx, name in enumerate(input_names):\n",
        "    T1name = input_dir + name\n",
        "    sub_T1 = np.load(T1name)\n",
        "    all_subs_T1.append(sub_T1)"
      ],
      "execution_count": 0,
      "outputs": []
    },
    {
      "cell_type": "code",
      "metadata": {
        "id": "Z9t3t05YFxe7",
        "colab_type": "code",
        "colab": {}
      },
      "source": [
        "all_subs_T1_array = np.asarray(all_subs_T1)"
      ],
      "execution_count": 0,
      "outputs": []
    },
    {
      "cell_type": "code",
      "metadata": {
        "id": "ZsOBZkBoFxe-",
        "colab_type": "code",
        "colab": {}
      },
      "source": [
        "np.save('all_subs_cropT1_array.npy', all_subs_T1_array)"
      ],
      "execution_count": 0,
      "outputs": []
    },
    {
      "cell_type": "code",
      "metadata": {
        "id": "Fn-gMCD8FxfA",
        "colab_type": "code",
        "colab": {}
      },
      "source": [
        "# Create numpy array of age labels for all subjects\n",
        "age_all = pheno['Age'].to_numpy()\n",
        "g_all = pheno['g'].to_numpy()\n",
        "PMAT_all = pheno['PMAT'].to_numpy()"
      ],
      "execution_count": 0,
      "outputs": []
    },
    {
      "cell_type": "code",
      "metadata": {
        "id": "N-uLF0IlFxfC",
        "colab_type": "code",
        "colab": {}
      },
      "source": [
        "np.save('age_labels.npy', age_all)\n",
        "np.save('g_labels.npy', g_all)\n",
        "np.save('PMAT_labels.npy', PMAT_all)"
      ],
      "execution_count": 0,
      "outputs": []
    },
    {
      "cell_type": "markdown",
      "metadata": {
        "id": "s5HlEZldFxfF",
        "colab_type": "text"
      },
      "source": [
        "# **Load Data**"
      ]
    },
    {
      "cell_type": "code",
      "metadata": {
        "id": "tNZMjzDAFxfL",
        "colab_type": "code",
        "colab": {}
      },
      "source": [
        "all_subs_T1 = np.load(root + 'all_subs_T1_array.npy')\n",
        "ages = np.load(root + 'age_labels.npy')\n",
        "gscores = np.load(root + 'g_labels.npy')"
      ],
      "execution_count": 0,
      "outputs": []
    },
    {
      "cell_type": "code",
      "metadata": {
        "id": "Ia9bLpN2FxfN",
        "colab_type": "code",
        "colab": {
          "base_uri": "https://localhost:8080/",
          "height": 68
        },
        "outputId": "21aa851f-35a4-4629-c73a-478e2674f1c9"
      },
      "source": [
        "print(all_subs_T1.shape)\n",
        "print(ages.shape)\n",
        "print(gscores.shape)"
      ],
      "execution_count": 12,
      "outputs": [
        {
          "output_type": "stream",
          "text": [
            "(960, 60, 72, 60)\n",
            "(960,)\n",
            "(960,)\n"
          ],
          "name": "stdout"
        }
      ]
    },
    {
      "cell_type": "markdown",
      "metadata": {
        "id": "W4Fl4p_BFxfQ",
        "colab_type": "text"
      },
      "source": [
        "# **Preprocess Data**"
      ]
    },
    {
      "cell_type": "code",
      "metadata": {
        "id": "BnQpQOv9FxfQ",
        "colab_type": "code",
        "colab": {
          "base_uri": "https://localhost:8080/",
          "height": 34
        },
        "outputId": "3b20a7b8-d93d-49c8-f9c9-e0ac102d5cd1"
      },
      "source": [
        "all_subs_T1_flat = all_subs_T1.reshape((all_subs_T1.shape[0], all_subs_T1.shape[1]*all_subs_T1.shape[2]*all_subs_T1.shape[3]))  # all_subs_T1_flat: (n_subjects, n_voxels)\n",
        "print(all_subs_T1_flat.shape)"
      ],
      "execution_count": 13,
      "outputs": [
        {
          "output_type": "stream",
          "text": [
            "(960, 259200)\n"
          ],
          "name": "stdout"
        }
      ]
    },
    {
      "cell_type": "markdown",
      "metadata": {
        "id": "kEjvuTo9FxfT",
        "colab_type": "text"
      },
      "source": [
        "# **Create Train/Test Splits**"
      ]
    },
    {
      "cell_type": "code",
      "metadata": {
        "id": "7UwrilQzFxfU",
        "colab_type": "code",
        "colab": {}
      },
      "source": [
        "# generate train/test splits\n",
        "np.random.seed(42)\n",
        "n_train = int(0.8 * all_subs_T1_flat.shape[0])\n",
        "\n",
        "train_idxs = np.random.choice(range(all_subs_T1_flat.shape[0]), size=n_train, replace=False)\n",
        "test_idxs = np.array([x for x in range(all_subs_T1_flat.shape[0]) if x not in train_idxs])"
      ],
      "execution_count": 0,
      "outputs": []
    },
    {
      "cell_type": "code",
      "metadata": {
        "id": "V28IPoY9FxfW",
        "colab_type": "code",
        "colab": {}
      },
      "source": [
        "train_T1 = all_subs_T1_flat[train_idxs, :]\n",
        "test_T1 = all_subs_T1_flat[test_idxs, :]\n",
        "\n",
        "#train_phen = ages[train_idxs]\n",
        "#test_phen = ages[test_idxs]\n",
        "\n",
        "train_phen = gscores[train_idxs]\n",
        "test_phen = gscores[test_idxs]"
      ],
      "execution_count": 0,
      "outputs": []
    },
    {
      "cell_type": "code",
      "metadata": {
        "id": "NhEPjT3aFxfZ",
        "colab_type": "code",
        "colab": {}
      },
      "source": [
        "# mean center train/test data (using train means)\n",
        "train_T1_mu_centered = (train_T1 - train_T1.mean(axis=0))\n",
        "test_T1_mu_centered = (test_T1 - train_T1.mean(axis=0))"
      ],
      "execution_count": 0,
      "outputs": []
    },
    {
      "cell_type": "markdown",
      "metadata": {
        "id": "_C3wNa0OFxfb",
        "colab_type": "text"
      },
      "source": [
        "# **Brain Basis Set (BBS)**"
      ]
    },
    {
      "cell_type": "code",
      "metadata": {
        "id": "nLO7ZFquFxfc",
        "colab_type": "code",
        "colab": {}
      },
      "source": [
        "pca_model = decomposition.PCA(n_components=75).fit(train_T1)"
      ],
      "execution_count": 0,
      "outputs": []
    },
    {
      "cell_type": "code",
      "metadata": {
        "id": "ferMC3RTFxfe",
        "colab_type": "code",
        "colab": {
          "base_uri": "https://localhost:8080/",
          "height": 515
        },
        "outputId": "da723d2b-dc9c-4bf3-e637-e6983bae84ca"
      },
      "source": [
        "print(f'First PC explains {pca_model.explained_variance_ratio_[0]*100:.2f}% of the total variance.\\nThis is an artifact of zero inflated T1 data')\n",
        "plt.figure(figsize=(10, 7))\n",
        "plt.bar(range(1, 51), pca_model.explained_variance_ratio_[1:51])\n",
        "plt.title('Variance Explained Ratio\\nPCs 1-50', fontsize=25)\n",
        "plt.show()"
      ],
      "execution_count": 33,
      "outputs": [
        {
          "output_type": "stream",
          "text": [
            "First PC explains 15.65% of the total variance.\n",
            "This is an artifact of zero inflated T1 data\n"
          ],
          "name": "stdout"
        },
        {
          "output_type": "display_data",
          "data": {
            "image/png": "[encoded data removed]",
            "text/plain": [
              "<Figure size 720x504 with 1 Axes>"
            ]
          },
          "metadata": {
            "tags": []
          }
        }
      ]
    },
    {
      "cell_type": "code",
      "metadata": {
        "id": "BhT9QQMYFxfh",
        "colab_type": "code",
        "colab": {}
      },
      "source": [
        "train_T1_transformed = pca_model.transform(train_T1)\n",
        "test_T1_transformed = pca_model.transform(test_T1)"
      ],
      "execution_count": 0,
      "outputs": []
    },
    {
      "cell_type": "code",
      "metadata": {
        "id": "shZGham2Fxfj",
        "colab_type": "code",
        "colab": {}
      },
      "source": [
        "# fast OLS using matrix math\n",
        "# we will check that this matches sklearn results later\n",
        "\n",
        "# fit ols model on dimension reduced train data\n",
        "train_features = np.hstack([np.ones((train_T1_transformed.shape[0], 1)), \n",
        "                            train_T1_transformed])\n",
        "train_features_inv = linalg.pinv2(train_features)\n",
        "train_betas = np.dot(train_features_inv, train_phen)\n",
        "train_pred_phen = np.dot(train_features, train_betas)\n",
        "\n",
        "# fit ols model on dimension reduced test data\n",
        "test_features = np.hstack([np.ones((test_T1_transformed.shape[0], 1)), \n",
        "                           test_T1_transformed])\n",
        "test_pred_phen = np.dot(test_features, train_betas)"
      ],
      "execution_count": 0,
      "outputs": []
    },
    {
      "cell_type": "code",
      "metadata": {
        "id": "SLuuiI0CFxfl",
        "colab_type": "code",
        "colab": {}
      },
      "source": [
        "# OLS using sklearn\n",
        "\n",
        "lr_model = linear_model.LinearRegression(fit_intercept=True, normalize=False)\n",
        "lr_model.fit(train_T1_transformed, train_phen)\n",
        "train_pred_phen_lr_model = lr_model.predict(train_T1_transformed)\n",
        "test_pred_phen_lr_model = lr_model.predict(test_T1_transformed)"
      ],
      "execution_count": 0,
      "outputs": []
    },
    {
      "cell_type": "code",
      "metadata": {
        "id": "UXreOJdSFxfo",
        "colab_type": "code",
        "colab": {
          "base_uri": "https://localhost:8080/",
          "height": 34
        },
        "outputId": "6ad590da-d0db-43cf-b407-2b0dee822947"
      },
      "source": [
        "# ensure matrix math predictions and sklearn predictions are accurate to 5 decimals\n",
        "assert np.allclose(np.round(train_pred_phen - train_pred_phen_lr_model, 5), 0), 'Failed'\n",
        "assert np.allclose(np.round(test_pred_phen - test_pred_phen_lr_model, 5), 0), 'Failed'\n",
        "print('Passed')"
      ],
      "execution_count": 37,
      "outputs": [
        {
          "output_type": "stream",
          "text": [
            "Passed\n"
          ],
          "name": "stdout"
        }
      ]
    },
    {
      "cell_type": "code",
      "metadata": {
        "id": "paEYWfxWFxfq",
        "colab_type": "code",
        "colab": {
          "base_uri": "https://localhost:8080/",
          "height": 85
        },
        "outputId": "1ee51e5f-d7b4-4a47-db11-eac020883f23"
      },
      "source": [
        "train_r2 = metrics.r2_score(train_phen, train_pred_phen_lr_model)\n",
        "train_mse = metrics.mean_squared_error(train_phen, train_pred_phen_lr_model)\n",
        "test_mse = metrics.mean_squared_error(test_phen, test_pred_phen_lr_model)\n",
        "\n",
        "print(f'Train R^2: {train_r2:.3f}')\n",
        "print(f'Train MSE: {train_mse:.3f}')\n",
        "print()\n",
        "print(f'Test MSE: {test_mse:.3f}')"
      ],
      "execution_count": 38,
      "outputs": [
        {
          "output_type": "stream",
          "text": [
            "Train R^2: 0.105\n",
            "Train MSE: 0.660\n",
            "\n",
            "Test MSE: 0.709\n"
          ],
          "name": "stdout"
        }
      ]
    },
    {
      "cell_type": "code",
      "metadata": {
        "id": "uKSxdpbFFxfs",
        "colab_type": "code",
        "colab": {}
      },
      "source": [
        "def bbs(X, y, n_components, n_cv_splits, pred_summary_function, verbose=False):\n",
        "    assert X.shape[0] == y.shape[0]\n",
        "    \n",
        "    fold_accs_train = []\n",
        "    fold_accs_test = []\n",
        "    np.random.seed(42)\n",
        "    shuffled_idxs = np.random.choice(range(X.shape[0]), size=X.shape[0], replace=False)\n",
        "    for fold_i, test_idxs in enumerate(np.array_split(shuffled_idxs, n_cv_splits)):\n",
        "        train_mask = np.ones(X.shape[0], np.bool)\n",
        "        train_mask[test_idxs] = 0\n",
        "\n",
        "        # create train/text X, y\n",
        "        train_X, test_X = X[train_mask, :], X[test_idxs, :]\n",
        "        train_y, test_y = y[train_mask], y[test_idxs]  \n",
        "\n",
        "        # mean center columns using train data only\n",
        "        train_X_mu = train_X.mean(axis=0)\n",
        "        train_X = train_X - train_X_mu\n",
        "        test_X = test_X - train_X_mu\n",
        "\n",
        "        # fit pca\n",
        "        if verbose:\n",
        "            print(f'CV Fold: {fold_i+1:<10} Fitting PCA model...')\n",
        "        pca_model = decomposition.PCA(n_components=n_components).fit(train_X)\n",
        "\n",
        "        # dimension reduce train/test data\n",
        "        train_X = pca_model.transform(train_X)\n",
        "        test_X = pca_model.transform(test_X)\n",
        "\n",
        "        # fit OLS model\n",
        "        if verbose:\n",
        "            print(f'CV Fold: {fold_i+1:<10} Fitting Linear Regression model...')\n",
        "        lr_model = linear_model.LinearRegression(fit_intercept=True, normalize=False)\n",
        "        lr_model.fit(train_X, train_y)\n",
        "\n",
        "        train_pred = lr_model.predict(train_X)\n",
        "        test_pred = lr_model.predict(test_X)\n",
        "\n",
        "        fold_accs_train.append(pred_summary_function(train_y, train_pred))\n",
        "        fold_accs_test.append(pred_summary_function(test_y, test_pred))\n",
        "        \n",
        "        if verbose:\n",
        "            print(f'CV Fold: {fold_i+1:<10} Train Accuracy: {round(fold_accs_train[-1], 3):<10} Test Accuracy: {round(fold_accs_test[-1], 3):<10}')\n",
        "\n",
        "    \n",
        "    plt.figure(figsize=(13, 7))\n",
        "    plt.plot(range(1, len(fold_accs_train)+1), fold_accs_train, linestyle='-', marker='o', color='C0', label='Train CV Performance')\n",
        "    plt.plot(range(1, len(fold_accs_test)+1), fold_accs_test, linestyle='-', marker='o', color='C1', label='Test CV Performance')\n",
        "    plt.title(pred_summary_function.__name__, fontsize=20)\n",
        "    plt.xticks(range(1, len(fold_accs_test)+1))\n",
        "    plt.xlabel('CV Fold')\n",
        "    plt.legend(fontsize=20)\n",
        "    plt.show()\n",
        "    \n",
        "    return fold_accs_train, fold_accs_test"
      ],
      "execution_count": 0,
      "outputs": []
    },
    {
      "cell_type": "code",
      "metadata": {
        "id": "Tb9ggf1jFxfv",
        "colab_type": "code",
        "colab": {
          "base_uri": "https://localhost:8080/",
          "height": 718
        },
        "outputId": "86354aa9-9f6a-4f86-9593-6c848aaeaad9"
      },
      "source": [
        "fold_accs_train, fold_accs_test = bbs(all_subs_T1_flat, ages, n_components=75, n_cv_splits=5, pred_summary_function=metrics.mean_squared_error, verbose=True)"
      ],
      "execution_count": 40,
      "outputs": [
        {
          "output_type": "stream",
          "text": [
            "CV Fold: 1          Fitting PCA model...\n",
            "CV Fold: 1          Fitting Linear Regression model...\n",
            "CV Fold: 1          Train Accuracy: 12.481     Test Accuracy: 14.537    \n",
            "CV Fold: 2          Fitting PCA model...\n",
            "CV Fold: 2          Fitting Linear Regression model...\n",
            "CV Fold: 2          Train Accuracy: 12.624     Test Accuracy: 13.831    \n",
            "CV Fold: 3          Fitting PCA model...\n",
            "CV Fold: 3          Fitting Linear Regression model...\n",
            "CV Fold: 3          Train Accuracy: 12.749     Test Accuracy: 13.526    \n",
            "CV Fold: 4          Fitting PCA model...\n",
            "CV Fold: 4          Fitting Linear Regression model...\n",
            "CV Fold: 4          Train Accuracy: 12.772     Test Accuracy: 13.533    \n",
            "CV Fold: 5          Fitting PCA model...\n",
            "CV Fold: 5          Fitting Linear Regression model...\n",
            "CV Fold: 5          Train Accuracy: 12.334     Test Accuracy: 15.032    \n"
          ],
          "name": "stdout"
        },
        {
          "output_type": "display_data",
          "data": {
            "image/png": "[encoded data removed]",
            "text/plain": [
              "<Figure size 936x504 with 1 Axes>"
            ]
          },
          "metadata": {
            "tags": []
          }
        }
      ]
    },
    {
      "cell_type": "markdown",
      "metadata": {
        "id": "5GHNzC-lFxfx",
        "colab_type": "text"
      },
      "source": [
        "# **CPM**"
      ]
    },
    {
      "cell_type": "code",
      "metadata": {
        "id": "-00oV6cVFxfy",
        "colab_type": "code",
        "colab": {}
      },
      "source": [
        ""
      ],
      "execution_count": 0,
      "outputs": []
    },
    {
      "cell_type": "markdown",
      "metadata": {
        "id": "ZPGbaF4WFxf0",
        "colab_type": "text"
      },
      "source": [
        "# **3-D CNN**"
      ]
    },
    {
      "cell_type": "code",
      "metadata": {
        "id": "Y8r5IPOSFxf3",
        "colab_type": "code",
        "colab": {
          "base_uri": "https://localhost:8080/",
          "height": 34
        },
        "outputId": "02465af3-8365-4ca9-83f1-db2e01e6f8e2"
      },
      "source": [
        "all_subs_T1.shape"
      ],
      "execution_count": 16,
      "outputs": [
        {
          "output_type": "execute_result",
          "data": {
            "text/plain": [
              "(960, 60, 72, 60)"
            ]
          },
          "metadata": {
            "tags": []
          },
          "execution_count": 16
        }
      ]
    },
    {
      "cell_type": "code",
      "metadata": {
        "id": "nnMCwGm-Fxf1",
        "colab_type": "code",
        "colab": {}
      },
      "source": [
        "all_subs_T1_CNN = all_subs_T1.reshape(-1,60,72,60,1)"
      ],
      "execution_count": 0,
      "outputs": []
    },
    {
      "cell_type": "code",
      "metadata": {
        "id": "ybZz7sKWFxf6",
        "colab_type": "code",
        "colab": {}
      },
      "source": [
        "train_T1_CNN = all_subs_T1_CNN[train_idxs,:,:,:,:]\n",
        "test_T1_CNN = all_subs_T1_CNN[test_idxs,:,:,:,:]"
      ],
      "execution_count": 0,
      "outputs": []
    },
    {
      "cell_type": "code",
      "metadata": {
        "id": "iQqecvStFxf9",
        "colab_type": "code",
        "colab": {
          "base_uri": "https://localhost:8080/",
          "height": 34
        },
        "outputId": "0964e506-0889-4e92-d04b-17362bdb08bb"
      },
      "source": [
        "train_T1_CNN.shape"
      ],
      "execution_count": 19,
      "outputs": [
        {
          "output_type": "execute_result",
          "data": {
            "text/plain": [
              "(768, 60, 72, 60, 1)"
            ]
          },
          "metadata": {
            "tags": []
          },
          "execution_count": 19
        }
      ]
    },
    {
      "cell_type": "code",
      "metadata": {
        "id": "7UOkb3cGFxf_",
        "colab_type": "code",
        "colab": {
          "base_uri": "https://localhost:8080/",
          "height": 34
        },
        "outputId": "7bf2b49c-4bf3-46a8-c44d-70f46c3c0890"
      },
      "source": [
        "test_T1_CNN.shape"
      ],
      "execution_count": 20,
      "outputs": [
        {
          "output_type": "execute_result",
          "data": {
            "text/plain": [
              "(192, 60, 72, 60, 1)"
            ]
          },
          "metadata": {
            "tags": []
          },
          "execution_count": 20
        }
      ]
    },
    {
      "cell_type": "code",
      "metadata": {
        "id": "YCaeMbfsFxgC",
        "colab_type": "code",
        "colab": {}
      },
      "source": [
        "image_shape = train_T1_CNN[0].shape"
      ],
      "execution_count": 0,
      "outputs": []
    },
    {
      "cell_type": "code",
      "metadata": {
        "id": "5rXDDliUFxgE",
        "colab_type": "code",
        "colab": {
          "base_uri": "https://localhost:8080/",
          "height": 867
        },
        "outputId": "1f61b637-094c-464d-add1-fd3342be6ca1"
      },
      "source": [
        "model = Sequential() # The simplest model, a linear stack of layers\n",
        "\n",
        "model.add(Conv3D(filters=64,\n",
        "                 kernel_size=(3,3,3), #determines the width, height, depth of the 3D convolution window\n",
        "                 activation='elu', #Exponential Linear Unit\n",
        "                 strides=1,\n",
        "                 padding='same',\n",
        "                 kernel_initializer='glorot_uniform', \n",
        "                 input_shape=image_shape)) # only the first layer needs to be told this info\n",
        "model.add(Conv3D(filters=64, kernel_size=(3,3,3), activation='elu', strides=(1,1,1), padding='same'))\n",
        "model.add(Conv3D(filters=64, kernel_size=(3,3,3), activation='elu', strides=(1,1,1), padding='same'))\n",
        "model.add(MaxPooling3D((2,2,2),strides=(2,2,2))) # pooling is also referred to as a downsampling layer\n",
        "model.add(BatchNormalization()) # Normalize the activations of the previous layer at each batch (aka make the mean activation close to 0 and the activation standard deviation close to 1)\n",
        "\n",
        "model.add(Conv3D(filters=32, kernel_size=(3,3,3), activation='elu', strides=(1,1,1), padding='same'))\n",
        "model.add(Conv3D(filters=32, kernel_size=(3,3,3), activation='elu', strides=(1,1,1), padding='same'))\n",
        "model.add(MaxPooling3D((2,2,2),strides=(2,2,2)))\n",
        "model.add(BatchNormalization())\n",
        "\n",
        "model.add(Conv3D(filters=16, kernel_size=(3,3,3), activation='elu', strides=(1,1,1), padding='same'))\n",
        "model.add(Conv3D(filters=16, kernel_size=(3,3,3), activation='elu', strides=(1,1,1), padding='same'))\n",
        "model.add(MaxPooling3D((2,2,2),strides=(2,2,2)))\n",
        "model.add(BatchNormalization())\n",
        "\n",
        "model.add(Conv3D(filters=8, kernel_size=(3,3,3), activation='elu', strides=(1,1,1), padding='same'))\n",
        "model.add(Conv3D(filters=8, kernel_size=(3,3,3), activation='elu', strides=(1,1,1), padding='same'))\n",
        "model.add(MaxPooling3D((2,2,2),strides=(2,2,2)))\n",
        "model.add(BatchNormalization())\n",
        "\n",
        "model.add(AveragePooling3D((2,2,2),strides=(2,2,2)))\n",
        "model.add(Flatten())\n",
        "model.add(Dense(1024, activation='relu',name='features')) #convert the output of the convolutional part of the CNN into a 1D feature vector. Length of vector = n_classes\n",
        "model.add(Dense(1)) # final output is a single number (Age in this model)\n",
        "model.summary()\n",
        "\n",
        "filename=\"best_weights.h5\"\n",
        "filename2=\"weights.{epoch:02d}-{val_loss:.2f}.hdf5\""
      ],
      "execution_count": 43,
      "outputs": [
        {
          "output_type": "stream",
          "text": [
            "Model: \"sequential_2\"\n",
            "_________________________________________________________________\n",
            "Layer (type)                 Output Shape              Param #   \n",
            "=================================================================\n",
            "conv3d_10 (Conv3D)           (None, 60, 72, 60, 64)    1792      \n",
            "_________________________________________________________________\n",
            "conv3d_11 (Conv3D)           (None, 60, 72, 60, 64)    110656    \n",
            "_________________________________________________________________\n",
            "conv3d_12 (Conv3D)           (None, 60, 72, 60, 64)    110656    \n",
            "_________________________________________________________________\n",
            "max_pooling3d_5 (MaxPooling3 (None, 30, 36, 30, 64)    0         \n",
            "_________________________________________________________________\n",
            "batch_normalization_5 (Batch (None, 30, 36, 30, 64)    256       \n",
            "_________________________________________________________________\n",
            "conv3d_13 (Conv3D)           (None, 30, 36, 30, 32)    55328     \n",
            "_________________________________________________________________\n",
            "conv3d_14 (Conv3D)           (None, 30, 36, 30, 32)    27680     \n",
            "_________________________________________________________________\n",
            "max_pooling3d_6 (MaxPooling3 (None, 15, 18, 15, 32)    0         \n",
            "_________________________________________________________________\n",
            "batch_normalization_6 (Batch (None, 15, 18, 15, 32)    128       \n",
            "_________________________________________________________________\n",
            "conv3d_15 (Conv3D)           (None, 15, 18, 15, 16)    13840     \n",
            "_________________________________________________________________\n",
            "conv3d_16 (Conv3D)           (None, 15, 18, 15, 16)    6928      \n",
            "_________________________________________________________________\n",
            "max_pooling3d_7 (MaxPooling3 (None, 7, 9, 7, 16)       0         \n",
            "_________________________________________________________________\n",
            "batch_normalization_7 (Batch (None, 7, 9, 7, 16)       64        \n",
            "_________________________________________________________________\n",
            "conv3d_17 (Conv3D)           (None, 7, 9, 7, 8)        3464      \n",
            "_________________________________________________________________\n",
            "conv3d_18 (Conv3D)           (None, 7, 9, 7, 8)        1736      \n",
            "_________________________________________________________________\n",
            "max_pooling3d_8 (MaxPooling3 (None, 3, 4, 3, 8)        0         \n",
            "_________________________________________________________________\n",
            "batch_normalization_8 (Batch (None, 3, 4, 3, 8)        32        \n",
            "_________________________________________________________________\n",
            "average_pooling3d_2 (Average (None, 1, 2, 1, 8)        0         \n",
            "_________________________________________________________________\n",
            "flatten_2 (Flatten)          (None, 16)                0         \n",
            "_________________________________________________________________\n",
            "features (Dense)             (None, 1024)              17408     \n",
            "_________________________________________________________________\n",
            "dense_2 (Dense)              (None, 1)                 1025      \n",
            "=================================================================\n",
            "Total params: 350,993\n",
            "Trainable params: 350,753\n",
            "Non-trainable params: 240\n",
            "_________________________________________________________________\n"
          ],
          "name": "stdout"
        }
      ]
    },
    {
      "cell_type": "code",
      "metadata": {
        "id": "O1MWZwDjFxgG",
        "colab_type": "code",
        "colab": {}
      },
      "source": [
        "checkpoints = []\n",
        "\n",
        "if not os.path.exists('3DCNN_Results_g/'):\n",
        "    os.makedirs('3DCNN_Results_g/')\n",
        "\n",
        "checkpoints.append(ModelCheckpoint('3DCNN_Results_g/'+filename, \n",
        "                                   monitor='val_loss', \n",
        "                                   verbose=1, \n",
        "                                   save_best_only=True, \n",
        "                                   save_weights_only=True, \n",
        "                                   mode='auto', \n",
        "                                   period=1))\n",
        "\n",
        "checkpoints.append(ModelCheckpoint('3DCNN_Results_g/'+filename2, \n",
        "                                   monitor='val_loss', \n",
        "                                   verbose=1, \n",
        "                                   save_best_only=False, \n",
        "                                   save_weights_only=True, \n",
        "                                   mode='auto', \n",
        "                                   period=20))\n",
        "\n",
        "checkpoints.append(TensorBoard(log_dir='3DCNN_Results_g/TensorBoardLogs', \n",
        "                               histogram_freq=0, \n",
        "                               write_graph=True, \n",
        "                               write_images=False, \n",
        "                               embeddings_freq=0, \n",
        "                               embeddings_layer_names=['features'], \n",
        "                               embeddings_metadata='metadata.tsv'))\n",
        "#Early Stopping here is set so that if the MSE in the validation set does not improve after 10 epochs, training will stop\n",
        "checkpoints.append(EarlyStopping(monitor='val_loss', mode='auto', min_delta=0, patience=10))\n",
        "checkpoints.append(ReduceLROnPlateau(monitor='val_loss', factor=0.1, patience=10, verbose=0, mode='auto', min_delta=0.0001, cooldown=0, min_lr=0))\n",
        "checkpoints.append(CSVLogger('3DCNN_Results_g/log.csv'))"
      ],
      "execution_count": 0,
      "outputs": []
    },
    {
      "cell_type": "code",
      "metadata": {
        "id": "q8-MFOaOFxgJ",
        "colab_type": "code",
        "colab": {}
      },
      "source": [
        "model.compile(loss='mse', # the objective that the model will try to minimize, Mean Square Error in this model\n",
        "              optimizer='adam', \n",
        "              metrics=['mae']) # add in any other metrics you want to use to show performance of the model"
      ],
      "execution_count": 0,
      "outputs": []
    },
    {
      "cell_type": "code",
      "metadata": {
        "id": "rVX5w2zHFxgL",
        "colab_type": "code",
        "colab": {
          "base_uri": "https://localhost:8080/",
          "height": 258
        },
        "outputId": "59acdeea-27b2-41c3-8285-cfdc1e47e4c8"
      },
      "source": [
        "# Check available GPUs\n",
        "K.tensorflow_backend._get_available_gpus()"
      ],
      "execution_count": 25,
      "outputs": [
        {
          "output_type": "stream",
          "text": [
            "WARNING:tensorflow:From /usr/local/lib/python3.6/dist-packages/keras/backend/tensorflow_backend.py:190: The name tf.get_default_session is deprecated. Please use tf.compat.v1.get_default_session instead.\n",
            "\n",
            "WARNING:tensorflow:From /usr/local/lib/python3.6/dist-packages/keras/backend/tensorflow_backend.py:197: The name tf.ConfigProto is deprecated. Please use tf.compat.v1.ConfigProto instead.\n",
            "\n",
            "WARNING:tensorflow:From /usr/local/lib/python3.6/dist-packages/keras/backend/tensorflow_backend.py:203: The name tf.Session is deprecated. Please use tf.compat.v1.Session instead.\n",
            "\n",
            "WARNING:tensorflow:From /usr/local/lib/python3.6/dist-packages/keras/backend/tensorflow_backend.py:207: The name tf.global_variables is deprecated. Please use tf.compat.v1.global_variables instead.\n",
            "\n",
            "WARNING:tensorflow:From /usr/local/lib/python3.6/dist-packages/keras/backend/tensorflow_backend.py:216: The name tf.is_variable_initialized is deprecated. Please use tf.compat.v1.is_variable_initialized instead.\n",
            "\n",
            "WARNING:tensorflow:From /usr/local/lib/python3.6/dist-packages/keras/backend/tensorflow_backend.py:223: The name tf.variables_initializer is deprecated. Please use tf.compat.v1.variables_initializer instead.\n",
            "\n"
          ],
          "name": "stdout"
        },
        {
          "output_type": "execute_result",
          "data": {
            "text/plain": [
              "['/job:localhost/replica:0/task:0/device:GPU:0']"
            ]
          },
          "metadata": {
            "tags": []
          },
          "execution_count": 25
        }
      ]
    },
    {
      "cell_type": "code",
      "metadata": {
        "id": "svhgREKsFxgN",
        "colab_type": "code",
        "colab": {
          "base_uri": "https://localhost:8080/",
          "height": 1000
        },
        "outputId": "14952ba2-bd7e-46e1-fe2e-6f2e067bf420"
      },
      "source": [
        "NUM_EPOCHS = 500 # defines for how many times the training will repeat. 1 epoch is 1 forward pass and 1 backward pass over all the training examples\n",
        "BATCH_SIZE = 20 # the number of training examples in one forward/backward pass (or for 1 epoch)\n",
        "history1 = model.fit(train_T1_CNN, train_phen, \n",
        "          validation_split = 0.1, # This sets how much of the training data should be used as the validation set (test set during training) \n",
        "          epochs = NUM_EPOCHS,\n",
        "          batch_size= BATCH_SIZE,\n",
        "          callbacks = checkpoints)"
      ],
      "execution_count": 46,
      "outputs": [
        {
          "output_type": "stream",
          "text": [
            "Train on 691 samples, validate on 77 samples\n",
            "Epoch 1/500\n",
            "691/691 [==============================] - 92s 133ms/step - loss: 0.7529 - mean_absolute_error: 0.6946 - val_loss: 0.7873 - val_mean_absolute_error: 0.6787\n",
            "\n",
            "Epoch 00001: val_loss improved from inf to 0.78728, saving model to 3DCNN_Results_g/best_weights.h5\n",
            "Epoch 2/500\n",
            "691/691 [==============================] - 99s 143ms/step - loss: 0.7377 - mean_absolute_error: 0.6830 - val_loss: 0.7954 - val_mean_absolute_error: 0.6764\n",
            "\n",
            "Epoch 00002: val_loss did not improve from 0.78728\n",
            "Epoch 3/500\n",
            "691/691 [==============================] - 101s 147ms/step - loss: 0.7447 - mean_absolute_error: 0.6846 - val_loss: 0.8163 - val_mean_absolute_error: 0.6832\n",
            "\n",
            "Epoch 00003: val_loss did not improve from 0.78728\n",
            "Epoch 4/500\n",
            "691/691 [==============================] - 102s 147ms/step - loss: 0.7451 - mean_absolute_error: 0.6847 - val_loss: 0.7881 - val_mean_absolute_error: 0.6811\n",
            "\n",
            "Epoch 00004: val_loss did not improve from 0.78728\n",
            "Epoch 5/500\n",
            "691/691 [==============================] - 102s 147ms/step - loss: 0.7379 - mean_absolute_error: 0.6828 - val_loss: 0.7812 - val_mean_absolute_error: 0.6810\n",
            "\n",
            "Epoch 00005: val_loss improved from 0.78728 to 0.78115, saving model to 3DCNN_Results_g/best_weights.h5\n",
            "Epoch 6/500\n",
            "691/691 [==============================] - 102s 148ms/step - loss: 0.7352 - mean_absolute_error: 0.6795 - val_loss: 0.7874 - val_mean_absolute_error: 0.6862\n",
            "\n",
            "Epoch 00006: val_loss did not improve from 0.78115\n",
            "Epoch 7/500\n",
            "691/691 [==============================] - 102s 147ms/step - loss: 0.7466 - mean_absolute_error: 0.6905 - val_loss: 0.7881 - val_mean_absolute_error: 0.6860\n",
            "\n",
            "Epoch 00007: val_loss did not improve from 0.78115\n",
            "Epoch 8/500\n",
            "691/691 [==============================] - 102s 148ms/step - loss: 0.7374 - mean_absolute_error: 0.6810 - val_loss: 0.7906 - val_mean_absolute_error: 0.6796\n",
            "\n",
            "Epoch 00008: val_loss did not improve from 0.78115\n",
            "Epoch 9/500\n",
            "691/691 [==============================] - 102s 147ms/step - loss: 0.7431 - mean_absolute_error: 0.6867 - val_loss: 0.8191 - val_mean_absolute_error: 0.7167\n",
            "\n",
            "Epoch 00009: val_loss did not improve from 0.78115\n",
            "Epoch 10/500\n",
            "691/691 [==============================] - 102s 147ms/step - loss: 0.7439 - mean_absolute_error: 0.6907 - val_loss: 0.7846 - val_mean_absolute_error: 0.6795\n",
            "\n",
            "Epoch 00010: val_loss did not improve from 0.78115\n",
            "Epoch 11/500\n",
            "691/691 [==============================] - 102s 147ms/step - loss: 0.7355 - mean_absolute_error: 0.6800 - val_loss: 0.7848 - val_mean_absolute_error: 0.6777\n",
            "\n",
            "Epoch 00011: val_loss did not improve from 0.78115\n",
            "Epoch 12/500\n",
            "691/691 [==============================] - 101s 147ms/step - loss: 0.7354 - mean_absolute_error: 0.6823 - val_loss: 0.7925 - val_mean_absolute_error: 0.6781\n",
            "\n",
            "Epoch 00012: val_loss did not improve from 0.78115\n",
            "Epoch 13/500\n",
            "691/691 [==============================] - 102s 147ms/step - loss: 0.7332 - mean_absolute_error: 0.6790 - val_loss: 0.7872 - val_mean_absolute_error: 0.6834\n",
            "\n",
            "Epoch 00013: val_loss did not improve from 0.78115\n",
            "Epoch 14/500\n",
            "691/691 [==============================] - 102s 147ms/step - loss: 0.7360 - mean_absolute_error: 0.6797 - val_loss: 0.7880 - val_mean_absolute_error: 0.6803\n",
            "\n",
            "Epoch 00014: val_loss did not improve from 0.78115\n",
            "Epoch 15/500\n",
            "691/691 [==============================] - 102s 147ms/step - loss: 0.7344 - mean_absolute_error: 0.6829 - val_loss: 0.7872 - val_mean_absolute_error: 0.6780\n",
            "\n",
            "Epoch 00015: val_loss did not improve from 0.78115\n"
          ],
          "name": "stdout"
        }
      ]
    },
    {
      "cell_type": "code",
      "metadata": {
        "id": "V_FbHQAqFxgP",
        "colab_type": "code",
        "colab": {
          "base_uri": "https://localhost:8080/",
          "height": 51
        },
        "outputId": "24a86979-33cd-4898-e4b1-f9d1341eaf07"
      },
      "source": [
        "model.evaluate(x=test_T1_CNN, y=test_phen)"
      ],
      "execution_count": 47,
      "outputs": [
        {
          "output_type": "stream",
          "text": [
            "192/192 [==============================] - 7s 35ms/step\n"
          ],
          "name": "stdout"
        },
        {
          "output_type": "execute_result",
          "data": {
            "text/plain": [
              "[0.6820558309555054, 0.6741509139537811]"
            ]
          },
          "metadata": {
            "tags": []
          },
          "execution_count": 47
        }
      ]
    },
    {
      "cell_type": "code",
      "metadata": {
        "id": "kEZ9pL8YThci",
        "colab_type": "code",
        "colab": {}
      },
      "source": [
        ""
      ],
      "execution_count": 0,
      "outputs": []
    }
  ]
}